{
 "cells": [
  {
   "cell_type": "code",
   "execution_count": 6,
   "id": "96f0ce8f",
   "metadata": {},
   "outputs": [
    {
     "name": "stdout",
     "output_type": "stream",
     "text": [
      "tensor([[0., 0., 0., 0., 0.],\n",
      "        [0., 0., 0., 0., 0.],\n",
      "        [0., 0., 0., 0., 0.],\n",
      "        [0., 0., 0., 0., 0.],\n",
      "        [0., 0., 0., 0., 0.]])\n",
      "tensor([[1., 1., 1., 1., 1.],\n",
      "        [1., 1., 1., 1., 1.],\n",
      "        [1., 1., 1., 1., 1.],\n",
      "        [1., 1., 1., 1., 1.],\n",
      "        [1., 1., 1., 1., 1.]])\n",
      "tensor([[0.0044, 0.2990, 0.2298, 0.7971, 0.5141],\n",
      "        [0.7710, 0.5266, 0.0788, 0.8759, 0.4284],\n",
      "        [0.4598, 0.0276, 0.6828, 0.4154, 0.1583],\n",
      "        [0.8410, 0.8891, 0.4527, 0.6483, 0.2127],\n",
      "        [0.2406, 0.6131, 0.4794, 0.4023, 0.6387]])\n",
      "tensor([6, 8])\n",
      "tensor(11)\n",
      "tensor([0.3333, 0.5000])\n",
      "tensor([-2, -2])\n"
     ]
    }
   ],
   "source": [
    "import torch\n",
    "\n",
    "class TensorCalculator():\n",
    "\n",
    "    def __init__(self): \n",
    "        return None\n",
    "\n",
    "    def tensor_zeros(dim_x,dim_y):\n",
    "        zeros = torch.zeros([dim_x,dim_y])\n",
    "        return zeros\n",
    "\n",
    "    def tensor_ones(dim_x, dim_y):\n",
    "        ones = torch.ones([dim_x, dim_y])\n",
    "        return ones\n",
    "\n",
    "    def tensor_rand(dim_x, dim_y):\n",
    "        random = torch.rand([dim_x,dim_y])\n",
    "        return random\n",
    "\n",
    "    def tensor_sum(dim_x, dim_y, dim_z, dim_g):\n",
    "        a = torch.tensor([dim_x,dim_y])\n",
    "        b = torch.tensor([dim_z,dim_g])\n",
    "        sum = a + b\n",
    "        return sum\n",
    "    \n",
    "    def tensor_mult(dim_x,dim_y,dim_z,dim_g):\n",
    "        a = torch.tensor([dim_x,dim_y])\n",
    "        b = torch.tensor([dim_z,dim_g])\n",
    "        mult = torch.matmul(a,b)\n",
    "        return mult\n",
    "    \n",
    "    def tensor_div(dim_x,dim_y,dim_z,dim_g):\n",
    "        a = torch.tensor([dim_x,dim_y])\n",
    "        b = torch.tensor([dim_z,dim_g])\n",
    "        mult = torch.div(a,b)\n",
    "        return mult\n",
    "    \n",
    "    def tensor_rest(dim_x,dim_y,dim_z,dim_g):\n",
    "        a = torch.tensor([dim_x,dim_y])\n",
    "        b = torch.tensor([dim_z,dim_g])\n",
    "        r = torch.sub(a,b)\n",
    "        return r\n",
    "\n",
    "zero = TensorCalculator.tensor_zeros(5,5)\n",
    "print(zero)\n",
    "\n",
    "one = TensorCalculator.tensor_ones(5,5)\n",
    "print(one)\n",
    "\n",
    "r = TensorCalculator.tensor_rand(5,5)\n",
    "print(r)\n",
    "\n",
    "suma = TensorCalculator.tensor_sum(2,3,4,5)\n",
    "print(suma)\n",
    "\n",
    "multiplicacion = TensorCalculator.tensor_mult(1,2,3,4)\n",
    "print(multiplicacion)\n",
    "\n",
    "division = TensorCalculator.tensor_div(1,2,3,4)\n",
    "print(division)\n",
    "\n",
    "resta = TensorCalculator.tensor_rest(1,2,3,4)\n",
    "print(resta)\n"
   ]
  },
  {
   "cell_type": "code",
   "execution_count": null,
   "id": "df475707",
   "metadata": {},
   "outputs": [],
   "source": []
  },
  {
   "cell_type": "code",
   "execution_count": null,
   "id": "32e91f6f",
   "metadata": {},
   "outputs": [],
   "source": []
  }
 ],
 "metadata": {
  "kernelspec": {
   "display_name": "Python 3 (ipykernel)",
   "language": "python",
   "name": "python3"
  },
  "language_info": {
   "codemirror_mode": {
    "name": "ipython",
    "version": 3
   },
   "file_extension": ".py",
   "mimetype": "text/x-python",
   "name": "python",
   "nbconvert_exporter": "python",
   "pygments_lexer": "ipython3",
   "version": "3.11.5"
  }
 },
 "nbformat": 4,
 "nbformat_minor": 5
}
