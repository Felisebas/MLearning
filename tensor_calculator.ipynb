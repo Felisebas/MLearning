{
 "cells": [
  {
   "cell_type": "code",
   "execution_count": 3,
   "id": "96f0ce8f",
   "metadata": {},
   "outputs": [
    {
     "name": "stdout",
     "output_type": "stream",
     "text": [
      "tensor([[0., 0., 0., 0., 0.],\n",
      "        [0., 0., 0., 0., 0.],\n",
      "        [0., 0., 0., 0., 0.],\n",
      "        [0., 0., 0., 0., 0.],\n",
      "        [0., 0., 0., 0., 0.]])\n",
      "tensor([[1., 1., 1., 1., 1.],\n",
      "        [1., 1., 1., 1., 1.],\n",
      "        [1., 1., 1., 1., 1.],\n",
      "        [1., 1., 1., 1., 1.],\n",
      "        [1., 1., 1., 1., 1.]])\n",
      "tensor([[0.5924, 0.6562, 0.0759, 0.9567, 0.4992],\n",
      "        [0.4575, 0.5813, 0.6594, 0.1447, 0.6384],\n",
      "        [0.1141, 0.4044, 0.8623, 0.5591, 0.4366],\n",
      "        [0.6773, 0.0879, 0.9836, 0.8123, 0.4943],\n",
      "        [0.7890, 0.1345, 0.9381, 0.2914, 0.6539]])\n",
      "tensor([6, 8])\n",
      "tensor(11)\n"
     ]
    }
   ],
   "source": [
    "import torch\n",
    "\n",
    "class TensorCalculator():\n",
    "\n",
    "    def __init__(self): \n",
    "        return None\n",
    "\n",
    "    def tensor_zeros(dim_x,dim_y):\n",
    "        zeros = torch.zeros([dim_x,dim_y])\n",
    "        return zeros\n",
    "\n",
    "    def tensor_ones(dim_x, dim_y):\n",
    "        ones = torch.ones([dim_x, dim_y])\n",
    "        return ones\n",
    "\n",
    "    def tensor_rand(dim_x, dim_y):\n",
    "        random = torch.rand([dim_x,dim_y])\n",
    "        return random\n",
    "\n",
    "    def tensor_sum(dim_x, dim_y, dim_z, dim_g):\n",
    "        a = torch.tensor([dim_x,dim_y])\n",
    "        b = torch.tensor([dim_z,dim_g])\n",
    "        sum = a + b\n",
    "        return sum\n",
    "    \n",
    "    def tensor_mult(dim_x,dim_y,dim_z,dim_g):\n",
    "        a = torch.tensor([dim_x,dim_y])\n",
    "        b = torch.tensor([dim_z,dim_g])\n",
    "        mult = torch.matmul(a,b)\n",
    "        return mult\n",
    "\n",
    "    def tensor_transpose(func):\n",
    "        transpose = torch.transpose(func)\n",
    "        return transpose\n",
    "\n",
    "zero = TensorCalculator.tensor_zeros(5,5)\n",
    "print(zero)\n",
    "\n",
    "one = TensorCalculator.tensor_ones(5,5)\n",
    "print(one)\n",
    "\n",
    "r = TensorCalculator.tensor_rand(5,5)\n",
    "print(r)\n",
    "\n",
    "suma = TensorCalculator.tensor_sum(2,3,4,5)\n",
    "print(suma)\n",
    "\n",
    "multiplicacion = TensorCalculator.tensor_mult(1,2,3,4)\n",
    "print(multiplicacion)\n"
   ]
  },
  {
   "cell_type": "code",
   "execution_count": null,
   "id": "31c1a72b",
   "metadata": {},
   "outputs": [],
   "source": []
  }
 ],
 "metadata": {
  "kernelspec": {
   "display_name": "Python 3 (ipykernel)",
   "language": "python",
   "name": "python3"
  },
  "language_info": {
   "codemirror_mode": {
    "name": "ipython",
    "version": 3
   },
   "file_extension": ".py",
   "mimetype": "text/x-python",
   "name": "python",
   "nbconvert_exporter": "python",
   "pygments_lexer": "ipython3",
   "version": "3.11.5"
  }
 },
 "nbformat": 4,
 "nbformat_minor": 5
}
