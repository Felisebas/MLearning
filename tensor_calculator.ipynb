{
 "cells": [
  {
   "cell_type": "code",
   "execution_count": 1,
   "id": "96f0ce8f",
   "metadata": {},
   "outputs": [
    {
     "ename": "ModuleNotFoundError",
     "evalue": "No module named 'torch'",
     "output_type": "error",
     "traceback": [
      "\u001b[1;31m---------------------------------------------------------------------------\u001b[0m",
      "\u001b[1;31mModuleNotFoundError\u001b[0m                       Traceback (most recent call last)",
      "Cell \u001b[1;32mIn[1], line 1\u001b[0m\n\u001b[1;32m----> 1\u001b[0m \u001b[38;5;28;01mimport\u001b[39;00m \u001b[38;5;21;01mtorch\u001b[39;00m\n",
      "\u001b[1;31mModuleNotFoundError\u001b[0m: No module named 'torch'"
     ]
    }
   ],
   "source": [
    "import torch"
   ]
  },
  {
   "cell_type": "code",
   "execution_count": 11,
   "id": "d6ddca95",
   "metadata": {},
   "outputs": [
    {
     "name": "stdout",
     "output_type": "stream",
     "text": [
      "tensor([[0., 0., 0., 0., 0.],\n",
      "        [0., 0., 0., 0., 0.],\n",
      "        [0., 0., 0., 0., 0.],\n",
      "        [0., 0., 0., 0., 0.],\n",
      "        [0., 0., 0., 0., 0.]])\n",
      "tensor([[1., 1., 1., 1., 1.],\n",
      "        [1., 1., 1., 1., 1.],\n",
      "        [1., 1., 1., 1., 1.],\n",
      "        [1., 1., 1., 1., 1.],\n",
      "        [1., 1., 1., 1., 1.]])\n",
      "tensor([[0.0404, 0.3614, 0.2118, 0.2502, 0.8628],\n",
      "        [0.3740, 0.6891, 0.9871, 0.2516, 0.5737],\n",
      "        [0.0888, 0.1346, 0.9861, 0.4536, 0.8071],\n",
      "        [0.2723, 0.1077, 0.9651, 0.5978, 0.2452],\n",
      "        [0.8550, 0.2299, 0.9857, 0.7600, 0.8722]])\n",
      "tensor([6, 8])\n",
      "tensor(11)\n"
     ]
    }
   ],
   "source": [
    "class TensorCalculator():\n",
    "\n",
    "    def __init__(self): \n",
    "        return None\n",
    "\n",
    "    def tensor_zeros(dim_x,dim_y):\n",
    "        zeros = torch.zeros([dim_x,dim_y])\n",
    "        return zeros\n",
    "\n",
    "    def tensor_ones(dim_x, dim_y):\n",
    "        ones = torch.ones([dim_x, dim_y])\n",
    "        return ones\n",
    "\n",
    "    def tensor_rand(dim_x, dim_y):\n",
    "        random = torch.rand([dim_x,dim_y])\n",
    "        return random\n",
    "\n",
    "    def tensor_sum(dim_x, dim_y, dim_z, dim_g):\n",
    "        a = torch.tensor([dim_x,dim_y])\n",
    "        b = torch.tensor([dim_z,dim_g])\n",
    "        sum = a + b\n",
    "        return sum\n",
    "    \n",
    "    def tensor_mult(dim_x,dim_y,dim_z,dim_g):\n",
    "        a = torch.tensor([dim_x,dim_y])\n",
    "        b = torch.tensor([dim_z,dim_g])\n",
    "        mult = torch.matmul(a,b)\n",
    "        return mult\n",
    "\n",
    "    def tensor_transpose(func):\n",
    "        transpose = torch.transpose(func)\n",
    "        return transpose\n",
    "\n",
    "zero = TensorCalculator.tensor_zeros(5,5)\n",
    "print(zero)\n",
    "\n",
    "one = TensorCalculator.tensor_ones(5,5)\n",
    "print(one)\n",
    "\n",
    "r = TensorCalculator.tensor_rand(5,5)\n",
    "print(r)\n",
    "\n",
    "suma = TensorCalculator.tensor_sum(2,3,4,5)\n",
    "print(suma)\n",
    "\n",
    "multiplicacion = TensorCalculator.tensor_mult(1,2,3,4)\n",
    "print(multiplicacion)\n",
    "\n",
    "trans = TensorCalculator.tensor_transpose(TensorCalculator.tensor_sum(2,3,4,5))\n",
    "print(trans)"
   ]
  }
 ],
 "metadata": {
  "kernelspec": {
   "display_name": "Python 3 (ipykernel)",
   "language": "python",
   "name": "python3"
  },
  "language_info": {
   "codemirror_mode": {
    "name": "ipython",
    "version": 3
   },
   "file_extension": ".py",
   "mimetype": "text/x-python",
   "name": "python",
   "nbconvert_exporter": "python",
   "pygments_lexer": "ipython3",
   "version": "3.11.4"
  }
 },
 "nbformat": 4,
 "nbformat_minor": 5
}
